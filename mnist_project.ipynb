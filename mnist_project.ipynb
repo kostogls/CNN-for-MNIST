{
  "nbformat": 4,
  "nbformat_minor": 0,
  "metadata": {
    "accelerator": "GPU",
    "colab": {
      "name": "mnist_project.ipynb",
      "provenance": [],
      "collapsed_sections": []
    },
    "kernelspec": {
      "display_name": "Python 3",
      "name": "python3"
    }
  },
  "cells": [
    {
      "cell_type": "code",
      "metadata": {
        "id": "RB1TmK5pkekS"
      },
      "source": [
        "import keras\n",
        "from keras.models import Model\n",
        "from keras import layers\n",
        "from keras.layers import Conv2D,MaxPooling2D,Flatten,Dropout,Dense,UpSampling2D,BatchNormalization\n",
        "from keras.datasets import mnist\n",
        "import numpy as np\n",
        "from tensorflow.python.keras.utils.np_utils import to_categorical\n",
        "import matplotlib.pyplot as plt\n",
        "from keras.optimizers import Adam,RMSprop\n"
      ],
      "execution_count": null,
      "outputs": []
    },
    {
      "cell_type": "code",
      "metadata": {
        "id": "FQnY9BbqOIn2",
        "colab": {
          "base_uri": "https://localhost:8080/"
        },
        "outputId": "39799501-3bbe-4b72-d0d2-c2edd2527b96"
      },
      "source": [
        "# load MNIST dataset from keras\n",
        "(train_images, train_labels), (test_images, test_labels) = mnist.load_data()\n",
        "# normalize data between 0 and 1\n",
        "train_images=train_images.astype('float32')\n",
        "test_images=test_images.astype('float32')\n",
        "train_images = train_images / 255\n",
        "test_images = test_images / 255"
      ],
      "execution_count": null,
      "outputs": [
        {
          "output_type": "stream",
          "text": [
            "Downloading data from https://storage.googleapis.com/tensorflow/tf-keras-datasets/mnist.npz\n",
            "11493376/11490434 [==============================] - 0s 0us/step\n"
          ],
          "name": "stdout"
        }
      ]
    },
    {
      "cell_type": "code",
      "metadata": {
        "colab": {
          "base_uri": "https://localhost:8080/"
        },
        "id": "XYEcDHtVk2lE",
        "outputId": "49b59dc8-8767-4fa1-9e84-a7d40a54aeec"
      },
      "source": [
        "x_train=train_images.reshape(train_images.shape[0],784)\n",
        "# the code below takes the same specific amount of images from every class, accoriding to num_of_indices variable\n",
        "# i will use them in the classifier\n",
        "num_of_indices = 20\n",
        "indices0 = [i for i in range(len(x_train)) if train_labels[i] == 0]\n",
        "indices0=indices0[:num_of_indices]\n",
        "indices1 = [i for i in range(len(x_train)) if train_labels[i] == 1]\n",
        "indices1=indices1[:num_of_indices]\n",
        "indices2 = [i for i in range(len(x_train)) if train_labels[i] == 2]\n",
        "indices2=indices2[:num_of_indices]\n",
        "indices3 = [i for i in range(len(x_train)) if train_labels[i] == 3]\n",
        "indices3=indices3[:num_of_indices]\n",
        "indices4 = [i for i in range(len(x_train)) if train_labels[i] == 4]\n",
        "indices4=indices4[:num_of_indices]\n",
        "indices5 = [i for i in range(len(x_train)) if train_labels[i] == 5]\n",
        "indices5=indices5[:num_of_indices]\n",
        "indices6 = [i for i in range(len(x_train)) if train_labels[i] == 6]\n",
        "indices6=indices6[:num_of_indices]\n",
        "indices7 = [i for i in range(len(x_train)) if train_labels[i] == 7]\n",
        "indices7=indices7[:num_of_indices]\n",
        "indices8 = [i for i in range(len(x_train)) if train_labels[i] == 8]\n",
        "indices8=indices8[:num_of_indices]\n",
        "indices9= [i for i in range(len(x_train)) if train_labels[i] == 9]\n",
        "indices9=indices9[:num_of_indices]\n",
        "# store every array with images from each class in one array\n",
        "indices=indices0+indices1+indices2+indices3+indices4+indices5+indices6+indices7+indices8+indices9\n",
        "indices.sort()\n",
        "#print(indices)\n",
        "# print(len(indices))\n",
        "#print(x_train[87])\n",
        "clas_images=x_train[[indices[:]],:]\n",
        "clas_images=np.reshape(clas_images,(len(indices),784))\n",
        "# auto_train is the array that stores all the other images that were not chosen to be in clas_images\n",
        "# the aim is that autoencoder should not have seen the images that the classifier was trained with \n",
        "auto_train=np.delete(x_train,[indices[:]],0)\n",
        "print(auto_train.shape)\n",
        "print(clas_images.shape)\n",
        "\n"
      ],
      "execution_count": null,
      "outputs": [
        {
          "output_type": "stream",
          "text": [
            "(59500, 784)\n",
            "(500, 784)\n"
          ],
          "name": "stdout"
        }
      ]
    },
    {
      "cell_type": "code",
      "metadata": {
        "id": "VMjuWYrUT-v2"
      },
      "source": [
        "# reshape my data to the shape needed to use it as input \n",
        "auto_train=np.reshape(auto_train,(len(auto_train),28,28,1))\n",
        "clas_images=np.reshape(clas_images,(len(clas_images),28,28,1))\n",
        "train_images = np.reshape(train_images, (len(train_images), 28, 28, 1))\n",
        "test_images = np.reshape(test_images, (len(test_images), 28, 28, 1))\n",
        "print(train_images.shape)"
      ],
      "execution_count": null,
      "outputs": []
    },
    {
      "cell_type": "code",
      "metadata": {
        "id": "5sErP2UDVs3a"
      },
      "source": [
        "# take the labels of the images i chose in each class\n",
        "clas_labels=train_labels[indices[:]]"
      ],
      "execution_count": null,
      "outputs": []
    },
    {
      "cell_type": "code",
      "metadata": {
        "colab": {
          "base_uri": "https://localhost:8080/"
        },
        "id": "VkmUo_YNOSbJ",
        "outputId": "acabeeb8-738f-48a4-8fc8-03ed69439db8"
      },
      "source": [
        "# transorm labels to one hot encoding\n",
        "clas_labels=to_categorical(clas_labels, 10)\n",
        "tr_labels = to_categorical(train_labels, 10)\n",
        "te_labels = to_categorical(test_labels, 10)\n",
        "\n"
      ],
      "execution_count": null,
      "outputs": [
        {
          "output_type": "stream",
          "text": [
            "(60000, 28, 28, 1)\n"
          ],
          "name": "stdout"
        }
      ]
    },
    {
      "cell_type": "code",
      "metadata": {
        "colab": {
          "base_uri": "https://localhost:8080/"
        },
        "id": "R0LHBmmYk4Nc",
        "outputId": "85bf3cae-a92b-4526-d884-2f8bea5054cd"
      },
      "source": [
        "# here the autoencoder is implemented, that consists of the encoder and the decoder\n",
        "# the input shape is defined\n",
        "input_img = keras.Input(shape=(28, 28, 1))\n",
        "# initializer is defined\n",
        "initializer=keras.initializers.GlorotNormal()\n",
        "# the convolutional, drop out, batch normalization and max pooling layers \n",
        "conv1=layers.Conv2D(32,kernel_size=3,activation='relu',padding='same',kernel_initializer=initializer)(input_img)\n",
        "d1=layers.Dropout(0.4)(conv1)\n",
        "b1=layers.BatchNormalization()(d1)\n",
        "maxp1=layers.MaxPooling2D(pool_size=(2,2))(b1)\n",
        "\n",
        "conv2=layers.Conv2D(64,kernel_size=3,activation='relu',padding='same',kernel_initializer=initializer)(maxp1)\n",
        "d2=layers.Dropout(0.4)(conv2)\n",
        "b2=layers.BatchNormalization()(d2)\n",
        "maxp2=layers.MaxPooling2D(pool_size=(2,2))(b2)\n",
        "\n",
        "encode=layers.Conv2D(128,kernel_size=3,activation='relu',padding='same',kernel_initializer=initializer)(maxp2) # here the images are encoded\n",
        "\n",
        "# encode=layers.Conv2D(256,kernel_size=3,activation='relu',padding='same',kernel_initializer=initializer)(maxp3)\n",
        "\n",
        "# the decoder starts here\n",
        "conv5=layers.Conv2D(64,kernel_size=3,activation='relu',padding='same',kernel_initializer=initializer)(encode)\n",
        "d5=layers.Dropout(0.4)(conv5)\n",
        "b5=layers.BatchNormalization()(d5)\n",
        "up5=layers.UpSampling2D((2,2))(b5)\n",
        "\n",
        "conv6=layers.Conv2D(32,kernel_size=3,activation='relu',padding='same',kernel_initializer=initializer)(up5)\n",
        "d6=layers.Dropout(0.4)(conv6)\n",
        "b6=layers.BatchNormalization()(d6)\n",
        "up6=layers.UpSampling2D((2,2))(b6)\n",
        "\n",
        "decode=Conv2D(1, kernel_size=3, activation='sigmoid', padding='same',kernel_initializer=initializer)(up6) #here the images have been reconstructed\n",
        "# define the autoencoder model\n",
        "autoencoder = keras.Model(input_img, decode)\n",
        "autoencoder.summary()\n",
        "# compile the autoencoder\n",
        "autoencoder.compile(optimizer=RMSprop(), loss='mse')"
      ],
      "execution_count": null,
      "outputs": [
        {
          "output_type": "stream",
          "text": [
            "Model: \"functional_1\"\n",
            "_________________________________________________________________\n",
            "Layer (type)                 Output Shape              Param #   \n",
            "=================================================================\n",
            "input_1 (InputLayer)         [(None, 28, 28, 1)]       0         \n",
            "_________________________________________________________________\n",
            "conv2d (Conv2D)              (None, 28, 28, 32)        320       \n",
            "_________________________________________________________________\n",
            "dropout (Dropout)            (None, 28, 28, 32)        0         \n",
            "_________________________________________________________________\n",
            "batch_normalization (BatchNo (None, 28, 28, 32)        128       \n",
            "_________________________________________________________________\n",
            "max_pooling2d (MaxPooling2D) (None, 14, 14, 32)        0         \n",
            "_________________________________________________________________\n",
            "conv2d_1 (Conv2D)            (None, 14, 14, 64)        18496     \n",
            "_________________________________________________________________\n",
            "dropout_1 (Dropout)          (None, 14, 14, 64)        0         \n",
            "_________________________________________________________________\n",
            "batch_normalization_1 (Batch (None, 14, 14, 64)        256       \n",
            "_________________________________________________________________\n",
            "max_pooling2d_1 (MaxPooling2 (None, 7, 7, 64)          0         \n",
            "_________________________________________________________________\n",
            "conv2d_2 (Conv2D)            (None, 7, 7, 128)         73856     \n",
            "_________________________________________________________________\n",
            "conv2d_3 (Conv2D)            (None, 7, 7, 64)          73792     \n",
            "_________________________________________________________________\n",
            "dropout_2 (Dropout)          (None, 7, 7, 64)          0         \n",
            "_________________________________________________________________\n",
            "batch_normalization_2 (Batch (None, 7, 7, 64)          256       \n",
            "_________________________________________________________________\n",
            "up_sampling2d (UpSampling2D) (None, 14, 14, 64)        0         \n",
            "_________________________________________________________________\n",
            "conv2d_4 (Conv2D)            (None, 14, 14, 32)        18464     \n",
            "_________________________________________________________________\n",
            "dropout_3 (Dropout)          (None, 14, 14, 32)        0         \n",
            "_________________________________________________________________\n",
            "batch_normalization_3 (Batch (None, 14, 14, 32)        128       \n",
            "_________________________________________________________________\n",
            "up_sampling2d_1 (UpSampling2 (None, 28, 28, 32)        0         \n",
            "_________________________________________________________________\n",
            "conv2d_5 (Conv2D)            (None, 28, 28, 1)         289       \n",
            "=================================================================\n",
            "Total params: 185,985\n",
            "Trainable params: 185,601\n",
            "Non-trainable params: 384\n",
            "_________________________________________________________________\n"
          ],
          "name": "stdout"
        }
      ]
    },
    {
      "cell_type": "code",
      "metadata": {
        "id": "HoFD26GaypT6"
      },
      "source": [
        "# choose the first x data from my test set to test my model\n",
        "chosen_data = 100\n",
        "val_images=test_images[:chosen_data]\n",
        "val_labels=te_labels[:chosen_data]"
      ],
      "execution_count": null,
      "outputs": []
    },
    {
      "cell_type": "code",
      "metadata": {
        "colab": {
          "base_uri": "https://localhost:8080/"
        },
        "id": "fNT6ZU0bk-Fz",
        "outputId": "94c2bdde-b2ee-4234-9f85-4e72da4141af"
      },
      "source": [
        "# the autoencoder is being trained using only the train images and the predictions use validation images, and stored to history object \n",
        "history=autoencoder.fit(auto_train, auto_train, epochs=20, batch_size=64, validation_data=(val_images,val_images))"
      ],
      "execution_count": null,
      "outputs": [
        {
          "output_type": "stream",
          "text": [
            "Epoch 1/20\n",
            "930/930 [==============================] - 9s 10ms/step - loss: 0.0175 - val_loss: 0.0209\n",
            "Epoch 2/20\n",
            "930/930 [==============================] - 9s 10ms/step - loss: 0.0090 - val_loss: 0.0098\n",
            "Epoch 3/20\n",
            "930/930 [==============================] - 9s 9ms/step - loss: 0.0077 - val_loss: 0.0051\n",
            "Epoch 4/20\n",
            "930/930 [==============================] - 9s 10ms/step - loss: 0.0072 - val_loss: 0.0034\n",
            "Epoch 5/20\n",
            "930/930 [==============================] - 9s 9ms/step - loss: 0.0069 - val_loss: 0.0031\n",
            "Epoch 6/20\n",
            "930/930 [==============================] - 9s 10ms/step - loss: 0.0067 - val_loss: 0.0034\n",
            "Epoch 7/20\n",
            "930/930 [==============================] - 9s 10ms/step - loss: 0.0066 - val_loss: 0.0028\n",
            "Epoch 8/20\n",
            "930/930 [==============================] - 9s 10ms/step - loss: 0.0065 - val_loss: 0.0052\n",
            "Epoch 9/20\n",
            "930/930 [==============================] - 9s 10ms/step - loss: 0.0064 - val_loss: 0.0040\n",
            "Epoch 10/20\n",
            "930/930 [==============================] - 9s 9ms/step - loss: 0.0064 - val_loss: 0.0054\n",
            "Epoch 11/20\n",
            "930/930 [==============================] - 9s 10ms/step - loss: 0.0063 - val_loss: 0.0037\n",
            "Epoch 12/20\n",
            "930/930 [==============================] - 9s 9ms/step - loss: 0.0063 - val_loss: 0.0045\n",
            "Epoch 13/20\n",
            "930/930 [==============================] - 9s 10ms/step - loss: 0.0062 - val_loss: 0.0033\n",
            "Epoch 14/20\n",
            "930/930 [==============================] - 9s 9ms/step - loss: 0.0062 - val_loss: 0.0036\n",
            "Epoch 15/20\n",
            "930/930 [==============================] - 9s 10ms/step - loss: 0.0062 - val_loss: 0.0031\n",
            "Epoch 16/20\n",
            "930/930 [==============================] - 9s 10ms/step - loss: 0.0061 - val_loss: 0.0046\n",
            "Epoch 17/20\n",
            "930/930 [==============================] - 9s 10ms/step - loss: 0.0061 - val_loss: 0.0081\n",
            "Epoch 18/20\n",
            "930/930 [==============================] - 9s 10ms/step - loss: 0.0061 - val_loss: 0.0043\n",
            "Epoch 19/20\n",
            "930/930 [==============================] - 9s 10ms/step - loss: 0.0060 - val_loss: 0.0037\n",
            "Epoch 20/20\n",
            "930/930 [==============================] - 9s 10ms/step - loss: 0.0060 - val_loss: 0.0049\n"
          ],
          "name": "stdout"
        }
      ]
    },
    {
      "cell_type": "code",
      "metadata": {
        "colab": {
          "base_uri": "https://localhost:8080/",
          "height": 145
        },
        "id": "FyDm-vr3lD1S",
        "outputId": "9afc567b-9f22-4db5-a64d-8ee631551e4c"
      },
      "source": [
        "# print the reconstructed images\n",
        "decoded_imgs=autoencoder.predict(val_images)\n",
        "n = 10\n",
        "plt.figure(figsize=(20, 4))\n",
        "for i in range(1, n + 1):\n",
        "    # Display original\n",
        "    ax = plt.subplot(2, n, i)\n",
        "    plt.imshow(val_images[i].reshape(28, 28))\n",
        "    plt.gray()\n",
        "    ax.get_xaxis().set_visible(False)\n",
        "    ax.get_yaxis().set_visible(False)\n",
        "\n",
        "    # Display reconstruction\n",
        "    ax = plt.subplot(2, n, i + n)\n",
        "    plt.imshow(decoded_imgs[i].reshape(28, 28))\n",
        "    plt.gray()\n",
        "    ax.get_xaxis().set_visible(False)\n",
        "    ax.get_yaxis().set_visible(False)\n",
        "plt.show()"
      ],
      "execution_count": null,
      "outputs": [
        {
          "output_type": "display_data",
          "data": {
            "image/png": "[encoded data removed]",
            "text/plain": [
              "<Figure size 1440x288 with 20 Axes>"
            ]
          },
          "metadata": {
            "tags": [],
            "needs_background": "light"
          }
        }
      ]
    },
    {
      "cell_type": "code",
      "metadata": {
        "colab": {
          "base_uri": "https://localhost:8080/",
          "height": 281
        },
        "id": "52cqmbb7GDik",
        "outputId": "2a0bcdaf-8855-4f55-dba4-b4c12b1a8cad"
      },
      "source": [
        "# plot loss and accuracy of autoencoder\n",
        "epochs=20\n",
        "loss = history.history['loss']\n",
        "val_loss = history.history['val_loss']\n",
        "epochs = range(epochs)\n",
        "plt.figure()\n",
        "plt.plot(epochs, loss, 'bo', label='Training loss')\n",
        "plt.plot(epochs, val_loss, 'b', label='Validation loss')\n",
        "plt.title('Training and validation loss')\n",
        "plt.legend()\n",
        "plt.show()"
      ],
      "execution_count": null,
      "outputs": [
        {
          "output_type": "display_data",
          "data": {
            "image/png": "[encoded data removed]",
            "text/plain": [
              "<Figure size 432x288 with 1 Axes>"
            ]
          },
          "metadata": {
            "tags": [],
            "needs_background": "light"
          }
        }
      ]
    },
    {
      "cell_type": "code",
      "metadata": {
        "id": "_TO7X-yEpEw9"
      },
      "source": [
        "# flat the encoded images and pass them to dense layers in order to built the classifier\n",
        "flat=layers.Flatten()(encode)\n",
        "dense1=layers.Dense(100,activation='sigmoid',kernel_initializer=initializer)(flat)\n",
        "dense2=layers.Dense(10,activation='softmax',kernel_initializer=initializer)(dense1)\n",
        "classifier=keras.Model(input_img,dense2)"
      ],
      "execution_count": null,
      "outputs": []
    },
    {
      "cell_type": "code",
      "metadata": {
        "id": "jSpLBj3mKeVo"
      },
      "source": [
        "# get the autoencoder weights of the first 9 layers, meaning the encoder that is used in the classifier\n",
        "for l1,l2 in zip(classifier.layers[:9],autoencoder.layers[0:9]):\n",
        "    l1.set_weights(l2.get_weights())"
      ],
      "execution_count": null,
      "outputs": []
    },
    {
      "cell_type": "code",
      "metadata": {
        "colab": {
          "base_uri": "https://localhost:8080/"
        },
        "id": "Of8f-beSKquV",
        "outputId": "94c295ac-c0f4-4559-f4a3-2aed56e122d0"
      },
      "source": [
        "# print the weights to check they are the same\n",
        "autoencoder.get_weights()[0][1]"
      ],
      "execution_count": null,
      "outputs": [
        {
          "output_type": "execute_result",
          "data": {
            "text/plain": [
              "array([[[ 0.12698002, -0.07915527,  0.0219788 ,  0.02832219,\n",
              "          0.1985483 ,  0.11743511,  0.08213382,  0.05467871,\n",
              "         -0.04741137, -0.27855185,  0.16058782,  0.11374797,\n",
              "          0.05046139,  0.17392941, -0.02797707,  0.09319782,\n",
              "          0.14735247, -0.07554495,  0.14118865, -0.2826408 ,\n",
              "          0.06864838,  0.1875258 ,  0.06651152, -0.27672002,\n",
              "          0.09155452, -0.10412514,  0.18588836, -0.23744279,\n",
              "          0.07636791,  0.13545382, -0.06585263,  0.2398384 ]],\n",
              "\n",
              "       [[ 0.31113312, -0.25717306,  0.06591301,  0.3195774 ,\n",
              "          0.43442887,  0.03159194,  0.08679817,  0.07245733,\n",
              "          0.29830235, -0.07022662,  0.3833982 , -0.2712063 ,\n",
              "         -0.20791636,  0.4244229 ,  0.25781798, -0.24480194,\n",
              "          0.14064904, -0.22589208,  0.03770339,  0.18754295,\n",
              "          0.36386126,  0.0974168 ,  0.27863604,  0.1287877 ,\n",
              "          0.06185443,  0.21451217,  0.13405314, -0.01606073,\n",
              "         -0.21183813, -0.12253889, -0.29285437,  0.18572372]],\n",
              "\n",
              "       [[ 0.17547984,  0.13484535,  0.11343738,  0.06245268,\n",
              "          0.2678586 ,  0.02384906,  0.08528653,  0.01810662,\n",
              "         -0.20826739,  0.16195555,  0.02295946, -0.12187064,\n",
              "         -0.18045409,  0.25969312,  0.06135474, -0.26297727,\n",
              "          0.19397825,  0.06834911,  0.06687189,  0.15235214,\n",
              "          0.24805404, -0.33809045, -0.05299743,  0.21036421,\n",
              "          0.08206756, -0.05228289, -0.15423883,  0.20449437,\n",
              "         -0.07704935, -0.13830179, -0.17340475,  0.2139925 ]]],\n",
              "      dtype=float32)"
            ]
          },
          "metadata": {
            "tags": []
          },
          "execution_count": 14
        }
      ]
    },
    {
      "cell_type": "code",
      "metadata": {
        "colab": {
          "base_uri": "https://localhost:8080/"
        },
        "id": "ySMT7QLdKr_p",
        "outputId": "3d6caeab-fc41-4795-db8c-43bab3647614"
      },
      "source": [
        "classifier.get_weights()[0][1]"
      ],
      "execution_count": null,
      "outputs": [
        {
          "output_type": "execute_result",
          "data": {
            "text/plain": [
              "array([[[ 0.12698002, -0.07915527,  0.0219788 ,  0.02832219,\n",
              "          0.1985483 ,  0.11743511,  0.08213382,  0.05467871,\n",
              "         -0.04741137, -0.27855185,  0.16058782,  0.11374797,\n",
              "          0.05046139,  0.17392941, -0.02797707,  0.09319782,\n",
              "          0.14735247, -0.07554495,  0.14118865, -0.2826408 ,\n",
              "          0.06864838,  0.1875258 ,  0.06651152, -0.27672002,\n",
              "          0.09155452, -0.10412514,  0.18588836, -0.23744279,\n",
              "          0.07636791,  0.13545382, -0.06585263,  0.2398384 ]],\n",
              "\n",
              "       [[ 0.31113312, -0.25717306,  0.06591301,  0.3195774 ,\n",
              "          0.43442887,  0.03159194,  0.08679817,  0.07245733,\n",
              "          0.29830235, -0.07022662,  0.3833982 , -0.2712063 ,\n",
              "         -0.20791636,  0.4244229 ,  0.25781798, -0.24480194,\n",
              "          0.14064904, -0.22589208,  0.03770339,  0.18754295,\n",
              "          0.36386126,  0.0974168 ,  0.27863604,  0.1287877 ,\n",
              "          0.06185443,  0.21451217,  0.13405314, -0.01606073,\n",
              "         -0.21183813, -0.12253889, -0.29285437,  0.18572372]],\n",
              "\n",
              "       [[ 0.17547984,  0.13484535,  0.11343738,  0.06245268,\n",
              "          0.2678586 ,  0.02384906,  0.08528653,  0.01810662,\n",
              "         -0.20826739,  0.16195555,  0.02295946, -0.12187064,\n",
              "         -0.18045409,  0.25969312,  0.06135474, -0.26297727,\n",
              "          0.19397825,  0.06834911,  0.06687189,  0.15235214,\n",
              "          0.24805404, -0.33809045, -0.05299743,  0.21036421,\n",
              "          0.08206756, -0.05228289, -0.15423883,  0.20449437,\n",
              "         -0.07704935, -0.13830179, -0.17340475,  0.2139925 ]]],\n",
              "      dtype=float32)"
            ]
          },
          "metadata": {
            "tags": []
          },
          "execution_count": 15
        }
      ]
    },
    {
      "cell_type": "code",
      "metadata": {
        "id": "wOnjduKlKbx1"
      },
      "source": [
        "#adam=keras.optimizers.Adam(learning_rate=0.00001)\n",
        "# compile the classifier \n",
        "classifier.compile(optimizer='adam',loss='categorical_crossentropy',metrics=['accuracy'])"
      ],
      "execution_count": null,
      "outputs": []
    },
    {
      "cell_type": "code",
      "metadata": {
        "id": "C0SiDvu6K-8u"
      },
      "source": [
        "# before training the classifier, we choose either to train the encoder again, or train only the 2 dense layers\n",
        "for layer in classifier.layers[0:9]:\n",
        "    layer.trainable = False"
      ],
      "execution_count": null,
      "outputs": []
    },
    {
      "cell_type": "code",
      "metadata": {
        "colab": {
          "base_uri": "https://localhost:8080/"
        },
        "id": "yFRjvvwqpF1Q",
        "outputId": "9aad77b2-707e-41db-d74a-2dd34023a4f6"
      },
      "source": [
        "# train the classifier and store it in clas object\n",
        "clas=classifier.fit(clas_images,clas_labels,epochs=10,batch_size=16,validation_data=(val_images,val_labels))"
      ],
      "execution_count": null,
      "outputs": [
        {
          "output_type": "stream",
          "text": [
            "Epoch 1/10\n",
            "32/32 [==============================] - 0s 11ms/step - loss: 1.4077 - accuracy: 0.6320 - val_loss: 1.0868 - val_accuracy: 0.8000\n",
            "Epoch 2/10\n",
            "32/32 [==============================] - 0s 5ms/step - loss: 0.6734 - accuracy: 0.8980 - val_loss: 0.7667 - val_accuracy: 0.8800\n",
            "Epoch 3/10\n",
            "32/32 [==============================] - 0s 4ms/step - loss: 0.3839 - accuracy: 0.9520 - val_loss: 0.5494 - val_accuracy: 0.9000\n",
            "Epoch 4/10\n",
            "32/32 [==============================] - 0s 5ms/step - loss: 0.2381 - accuracy: 0.9700 - val_loss: 0.4386 - val_accuracy: 0.9200\n",
            "Epoch 5/10\n",
            "32/32 [==============================] - 0s 4ms/step - loss: 0.1352 - accuracy: 0.9960 - val_loss: 0.2892 - val_accuracy: 0.9500\n",
            "Epoch 6/10\n",
            "32/32 [==============================] - 0s 5ms/step - loss: 0.0832 - accuracy: 0.9960 - val_loss: 0.2751 - val_accuracy: 0.9700\n",
            "Epoch 7/10\n",
            "32/32 [==============================] - 0s 4ms/step - loss: 0.0557 - accuracy: 0.9980 - val_loss: 0.2098 - val_accuracy: 0.9700\n",
            "Epoch 8/10\n",
            "32/32 [==============================] - 0s 5ms/step - loss: 0.0411 - accuracy: 1.0000 - val_loss: 0.1867 - val_accuracy: 0.9700\n",
            "Epoch 9/10\n",
            "32/32 [==============================] - 0s 5ms/step - loss: 0.0330 - accuracy: 1.0000 - val_loss: 0.1709 - val_accuracy: 0.9700\n",
            "Epoch 10/10\n",
            "32/32 [==============================] - 0s 4ms/step - loss: 0.0269 - accuracy: 1.0000 - val_loss: 0.1599 - val_accuracy: 0.9600\n"
          ],
          "name": "stdout"
        }
      ]
    },
    {
      "cell_type": "code",
      "metadata": {
        "id": "wJNA63i1pKGw",
        "colab": {
          "base_uri": "https://localhost:8080/"
        },
        "outputId": "3dec0fc3-f4d9-4035-a66d-8acb81977e64"
      },
      "source": [
        "# finding the overall test loss and accuracy\n",
        "score = classifier.evaluate(test_images, te_labels)\n",
        "print('Test loss:', score[0])\n",
        "print('Test accuracy:', score[1])"
      ],
      "execution_count": null,
      "outputs": [
        {
          "output_type": "stream",
          "text": [
            "313/313 [==============================] - 1s 3ms/step - loss: 0.2849 - accuracy: 0.9190\n",
            "Test loss: 0.284934401512146\n",
            "Test accuracy: 0.9190000295639038\n"
          ],
          "name": "stdout"
        }
      ]
    },
    {
      "cell_type": "code",
      "metadata": {
        "id": "UuohrbJJrxb6",
        "colab": {
          "base_uri": "https://localhost:8080/",
          "height": 573
        },
        "outputId": "ebcbd283-52fc-4757-e581-f0102fccb40a"
      },
      "source": [
        "# summarize history for accuracy\n",
        "plt.plot(clas.history['accuracy'])\n",
        "plt.plot(clas.history['val_accuracy'])\n",
        "plt.title('model accuracy')\n",
        "plt.ylabel('accuracy')\n",
        "plt.xlabel('epoch')\n",
        "plt.legend(['train', 'test'], loc='upper left')\n",
        "plt.show()\n",
        "# summarize history for loss\n",
        "plt.plot(clas.history['loss'])\n",
        "plt.plot(clas.history['val_loss'])\n",
        "plt.title('model loss')\n",
        "plt.ylabel('loss')\n",
        "plt.xlabel('epoch')\n",
        "plt.legend(['train', 'test'], loc='upper left')\n",
        "plt.show()\n"
      ],
      "execution_count": null,
      "outputs": [
        {
          "output_type": "display_data",
          "data": {
            "image/png": "[encoded data removed]",
            "text/plain": [
              "<Figure size 432x288 with 1 Axes>"
            ]
          },
          "metadata": {
            "tags": [],
            "needs_background": "light"
          }
        },
        {
          "output_type": "display_data",
          "data": {
            "image/png": "[encoded data removed]",
            "text/plain": [
              "<Figure size 432x288 with 1 Axes>"
            ]
          },
          "metadata": {
            "tags": [],
            "needs_background": "light"
          }
        }
      ]
    },
    {
      "cell_type": "code",
      "metadata": {
        "id": "bSTKv_r9qg3s"
      },
      "source": [
        ""
      ],
      "execution_count": null,
      "outputs": []
    }
  ]
}